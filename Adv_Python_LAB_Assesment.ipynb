{
  "nbformat": 4,
  "nbformat_minor": 0,
  "metadata": {
    "colab": {
      "provenance": [],
      "collapsed_sections": [
        "0k1GHAi9vptR",
        "Z8GhXuZPv1ua",
        "o7UxDoBgwCwU",
        "ARsl1_lZwPrg",
        "mpIQ9mdywWRL",
        "LI-56VsxwkiV",
        "tcy260Ozwryt",
        "ka8kA_UPwz87",
        "WpIFVbzcxCO3",
        "K0JxQZEWxMAp",
        "lxEkU31MxVSl",
        "BMz99Tb5xxmD",
        "CJ0PxtRUx5b3",
        "N3NNhnMTx-fb",
        "0-d0pbP8yE2z",
        "JTL7n509yK9o",
        "SNDMjm9zyQl_",
        "Qwj5U1ddyVcu",
        "JydOiAwiybsC",
        "cykp_X1xykh3"
      ]
    },
    "kernelspec": {
      "name": "python3",
      "display_name": "Python 3"
    },
    "language_info": {
      "name": "python"
    }
  },
  "cells": [
    {
      "cell_type": "markdown",
      "source": [
        "# 1. Dictionary Comprehension"
      ],
      "metadata": {
        "id": "0k1GHAi9vptR"
      }
    },
    {
      "cell_type": "code",
      "execution_count": null,
      "metadata": {
        "colab": {
          "base_uri": "https://localhost:8080/"
        },
        "id": "ATSPTLJfvW5J",
        "outputId": "0463239b-02f8-4e7f-b85b-84444311c25a"
      },
      "outputs": [
        {
          "output_type": "stream",
          "name": "stdout",
          "text": [
            "{1: 1, 2: 4, 3: 9, 4: 16, 5: 25, 6: 36, 7: 49, 8: 64, 9: 81, 10: 100}\n"
          ]
        }
      ],
      "source": [
        "squares = {x: x**2 for x in range(1, 11)}\n",
        "print(squares)"
      ]
    },
    {
      "cell_type": "markdown",
      "source": [
        "# 2. List Comprehension"
      ],
      "metadata": {
        "id": "Z8GhXuZPv1ua"
      }
    },
    {
      "cell_type": "code",
      "source": [
        "even_numbers = [x for x in range(1, 21) if x % 2 == 0]\n",
        "print(even_numbers)"
      ],
      "metadata": {
        "colab": {
          "base_uri": "https://localhost:8080/"
        },
        "id": "CX0gYjWhvvZt",
        "outputId": "8724e17b-9d4d-4e2f-a308-2ab00874ba95"
      },
      "execution_count": null,
      "outputs": [
        {
          "output_type": "stream",
          "name": "stdout",
          "text": [
            "[2, 4, 6, 8, 10, 12, 14, 16, 18, 20]\n"
          ]
        }
      ]
    },
    {
      "cell_type": "markdown",
      "source": [
        "# 3. Nested Dictionary"
      ],
      "metadata": {
        "id": "o7UxDoBgwCwU"
      }
    },
    {
      "cell_type": "code",
      "source": [
        "nested_dict = {(x, y): x + y for x in range(2) for y in range(2)}\n",
        "print(nested_dict)"
      ],
      "metadata": {
        "colab": {
          "base_uri": "https://localhost:8080/"
        },
        "id": "XTJz1yo4v_i_",
        "outputId": "da11c42d-b5a4-4103-9cb9-554cd0ce16e9"
      },
      "execution_count": null,
      "outputs": [
        {
          "output_type": "stream",
          "name": "stdout",
          "text": [
            "{(0, 0): 0, (0, 1): 1, (1, 0): 1, (1, 1): 2}\n"
          ]
        }
      ]
    },
    {
      "cell_type": "markdown",
      "source": [
        "# 4. Lambda and filter()"
      ],
      "metadata": {
        "id": "ARsl1_lZwPrg"
      }
    },
    {
      "cell_type": "code",
      "source": [
        "numbers = list(range(1, 11))\n",
        "odd_numbers = list(filter(lambda x: x % 2 != 0, numbers))\n",
        "print(odd_numbers)"
      ],
      "metadata": {
        "colab": {
          "base_uri": "https://localhost:8080/"
        },
        "id": "wZ3tJub_wML4",
        "outputId": "533e59c1-f86f-4a5d-9203-bf5a667498f1"
      },
      "execution_count": null,
      "outputs": [
        {
          "output_type": "stream",
          "name": "stdout",
          "text": [
            "[1, 3, 5, 7, 9]\n"
          ]
        }
      ]
    },
    {
      "cell_type": "markdown",
      "source": [
        "# 5. Email Validation"
      ],
      "metadata": {
        "id": "mpIQ9mdywWRL"
      }
    },
    {
      "cell_type": "code",
      "source": [
        "import re\n",
        "\n",
        "def validate_email(email):\n",
        "    pattern = r'^[a-zA-Z0-9._%+-]+@[a-zA-Z0-9.-]+\\.[a-zA-Z]{2,}$'\n",
        "    if re.match(pattern, email):\n",
        "        print(\"Valid Email\")\n",
        "    else:\n",
        "        print(\"Invalid Email\")"
      ],
      "metadata": {
        "id": "dD5oYuxkwUHI"
      },
      "execution_count": null,
      "outputs": []
    },
    {
      "cell_type": "code",
      "source": [
        "# Test\n",
        "validate_email(\"parulkumari@gmail.com\")"
      ],
      "metadata": {
        "colab": {
          "base_uri": "https://localhost:8080/"
        },
        "id": "fqvloi9Fwb3K",
        "outputId": "4759d67e-0630-4235-d215-a8aea6dd5ff3"
      },
      "execution_count": null,
      "outputs": [
        {
          "output_type": "stream",
          "name": "stdout",
          "text": [
            "Valid Email\n"
          ]
        }
      ]
    },
    {
      "cell_type": "markdown",
      "source": [
        "# 6. Password Strength Checker"
      ],
      "metadata": {
        "id": "LI-56VsxwkiV"
      }
    },
    {
      "cell_type": "code",
      "source": [
        "import re\n",
        "\n",
        "def check_password_strength(password):\n",
        "    pattern = r'^(?=.*[a-z])(?=.*[A-Z])(?=.*\\d)(?=.*[@$!%*?&])[A-Za-z\\d@$!%*?&]{8,18}$'\n",
        "    if re.match(pattern, password):\n",
        "        print(\"Valid Password\")\n",
        "    else:\n",
        "        print(\"Invalid Password\")"
      ],
      "metadata": {
        "id": "1Qjb_hy5wcue"
      },
      "execution_count": null,
      "outputs": []
    },
    {
      "cell_type": "code",
      "source": [
        "# Test\n",
        "check_password_strength(\"StrongP@ss123\")"
      ],
      "metadata": {
        "colab": {
          "base_uri": "https://localhost:8080/"
        },
        "id": "cuNT3ZcGwomR",
        "outputId": "4b9c949d-f35a-41b1-f6ee-6bdbc6ac124d"
      },
      "execution_count": null,
      "outputs": [
        {
          "output_type": "stream",
          "name": "stdout",
          "text": [
            "Valid Password\n"
          ]
        }
      ]
    },
    {
      "cell_type": "markdown",
      "source": [
        "# 7. Extracting URLs"
      ],
      "metadata": {
        "id": "tcy260Ozwryt"
      }
    },
    {
      "cell_type": "code",
      "source": [
        "import re\n",
        "\n",
        "def extract_urls(text):\n",
        "    pattern = r'https?://[^\\s]+'\n",
        "    urls = re.findall(pattern, text)\n",
        "    return urls"
      ],
      "metadata": {
        "id": "OZFX1AgQwpJx"
      },
      "execution_count": null,
      "outputs": []
    },
    {
      "cell_type": "code",
      "source": [
        "# Test\n",
        "text = \"Visit https://example.com and http://test.com for more information.\"\n",
        "print(extract_urls(text))"
      ],
      "metadata": {
        "colab": {
          "base_uri": "https://localhost:8080/"
        },
        "id": "eyBO6t08wxH7",
        "outputId": "3cde43c2-fcd3-4853-8ba5-a700dbfcce1d"
      },
      "execution_count": null,
      "outputs": [
        {
          "output_type": "stream",
          "name": "stdout",
          "text": [
            "['https://example.com', 'http://test.com']\n"
          ]
        }
      ]
    },
    {
      "cell_type": "markdown",
      "source": [
        "# 8. UPI ID Validator"
      ],
      "metadata": {
        "id": "ka8kA_UPwz87"
      }
    },
    {
      "cell_type": "code",
      "source": [
        "import re\n",
        "\n",
        "def validate_upi(upi):\n",
        "    pattern = r'^[^\\s@]+@[^\\s@]+(\\.[^\\s@]+)?$'\n",
        "    if re.match(pattern, upi):\n",
        "        print(\"Valid UPI ID\")\n",
        "    else:\n",
        "        print(\"Invalid UPI ID\")"
      ],
      "metadata": {
        "id": "a1Dvf5vZwxjn"
      },
      "execution_count": null,
      "outputs": []
    },
    {
      "cell_type": "code",
      "source": [
        "# Test\n",
        "validate_upi(\"user25436@okaxis\")"
      ],
      "metadata": {
        "colab": {
          "base_uri": "https://localhost:8080/"
        },
        "id": "OimwCOTqw8F6",
        "outputId": "63430770-45a3-462f-afdd-25a9423b9a6a"
      },
      "execution_count": null,
      "outputs": [
        {
          "output_type": "stream",
          "name": "stdout",
          "text": [
            "Valid UPI ID\n"
          ]
        }
      ]
    },
    {
      "cell_type": "markdown",
      "source": [
        "# 9. Bank Account Class"
      ],
      "metadata": {
        "id": "WpIFVbzcxCO3"
      }
    },
    {
      "cell_type": "code",
      "source": [
        "class BankAccount:\n",
        "    def __init__(self, account_number, name, balance=0):\n",
        "        self.account_number = account_number\n",
        "        self.name = name\n",
        "        self.balance = balance\n",
        "\n",
        "    def deposit(self, amount):\n",
        "        self.balance += amount\n",
        "\n",
        "    def withdraw(self, amount):\n",
        "        if amount > self.balance:\n",
        "            print(\"Insufficient funds!\")\n",
        "        else:\n",
        "            self.balance -= amount"
      ],
      "metadata": {
        "id": "1hRyEzIpw_I8"
      },
      "execution_count": null,
      "outputs": []
    },
    {
      "cell_type": "code",
      "source": [
        "# Test\n",
        "account = BankAccount(\"12345\", \"Alice\", 1000)\n",
        "account.deposit(500)\n",
        "account.withdraw(300)\n",
        "print(account.balance)"
      ],
      "metadata": {
        "colab": {
          "base_uri": "https://localhost:8080/"
        },
        "id": "v0roR95ExI1Z",
        "outputId": "f82d2efd-bee9-4adf-b905-83d692406a58"
      },
      "execution_count": null,
      "outputs": [
        {
          "output_type": "stream",
          "name": "stdout",
          "text": [
            "1200\n"
          ]
        }
      ]
    },
    {
      "cell_type": "markdown",
      "source": [
        "# 10. Inheritance"
      ],
      "metadata": {
        "id": "K0JxQZEWxMAp"
      }
    },
    {
      "cell_type": "code",
      "source": [
        "class Person:\n",
        "    def __init__(self, name, age):\n",
        "        self.name = name\n",
        "        self.age = age\n",
        "\n",
        "class Student(Person):\n",
        "    def __init__(self, name, age, student_id):\n",
        "        super().__init__(name, age)\n",
        "        self.student_id = student_id\n",
        "\n",
        "    def display(self):\n",
        "        print(f\"Name: {self.name}, Age: {self.age}, ID: {self.student_id}\")"
      ],
      "metadata": {
        "id": "8IZp0Be3xJal"
      },
      "execution_count": null,
      "outputs": []
    },
    {
      "cell_type": "code",
      "source": [
        "# Test\n",
        "student = Student(\"Bob\", 20, \"S123\")\n",
        "student.display()"
      ],
      "metadata": {
        "colab": {
          "base_uri": "https://localhost:8080/"
        },
        "id": "7chpwZ9LxRtf",
        "outputId": "5a559853-a45e-4f67-94f9-0f5b20861d57"
      },
      "execution_count": null,
      "outputs": [
        {
          "output_type": "stream",
          "name": "stdout",
          "text": [
            "Name: Bob, Age: 20, ID: S123\n"
          ]
        }
      ]
    },
    {
      "cell_type": "markdown",
      "source": [
        "# 11. Polymorphism"
      ],
      "metadata": {
        "id": "lxEkU31MxVSl"
      }
    },
    {
      "cell_type": "code",
      "source": [
        "import math\n",
        "\n",
        "class Shape:\n",
        "    def area(self):\n",
        "        raise NotImplementedError(\"Subclasses must implement this method.\")\n",
        "\n",
        "class Circle(Shape):\n",
        "    def __init__(self, radius):\n",
        "        self.radius = radius\n",
        "\n",
        "    def area(self):\n",
        "        return math.pi * self.radius ** 2\n",
        "\n",
        "class Square(Shape):\n",
        "    def __init__(self, side):\n",
        "        self.side = side\n",
        "\n",
        "    def area(self):\n",
        "        return self.side ** 2"
      ],
      "metadata": {
        "id": "7m4WRQBmxSeQ"
      },
      "execution_count": null,
      "outputs": []
    },
    {
      "cell_type": "code",
      "source": [
        "# Test\n",
        "shapes = [Circle(5), Square(4)]\n",
        "for shape in shapes:\n",
        "    print(f\"The area of the {type(shape).__name__} is {shape.area()}\")"
      ],
      "metadata": {
        "colab": {
          "base_uri": "https://localhost:8080/"
        },
        "id": "p6HQcWHQxuN9",
        "outputId": "b12895a5-c5df-4e3d-fd69-bbb78e336f44"
      },
      "execution_count": null,
      "outputs": [
        {
          "output_type": "stream",
          "name": "stdout",
          "text": [
            "The area of the Circle is 78.53981633974483\n",
            "The area of the Square is 16\n"
          ]
        }
      ]
    },
    {
      "cell_type": "markdown",
      "source": [
        "# 12. Encapsulation in a Class"
      ],
      "metadata": {
        "id": "BMz99Tb5xxmD"
      }
    },
    {
      "cell_type": "code",
      "source": [
        "class Motorcycle:\n",
        "    def __init__(self, color, engine_size, max_speed):\n",
        "        self.__color = color\n",
        "        self.__engine_size = engine_size\n",
        "        self.__max_speed = max_speed\n",
        "\n",
        "    def get_color(self):\n",
        "        return self.__color\n",
        "\n",
        "    def set_color(self, color):\n",
        "        self.__color = color\n",
        "\n",
        "    def get_engine_size(self):\n",
        "        return self.__engine_size\n",
        "\n",
        "    def set_engine_size(self, engine_size):\n",
        "        self.__engine_size = engine_size\n",
        "\n",
        "    def get_max_speed(self):\n",
        "        return self.__max_speed\n",
        "\n",
        "    def set_max_speed(self, max_speed):\n",
        "        self.__max_speed = max_speed"
      ],
      "metadata": {
        "id": "wi9cKlD6xuqM"
      },
      "execution_count": null,
      "outputs": []
    },
    {
      "cell_type": "code",
      "source": [
        "# Test\n",
        "bike = Motorcycle(\"Red\", 1000, 200)\n",
        "print(bike.get_color())\n",
        "bike.set_color(\"Blue\")\n",
        "print(bike.get_color())"
      ],
      "metadata": {
        "colab": {
          "base_uri": "https://localhost:8080/"
        },
        "id": "qtwTZh9cx2LO",
        "outputId": "9f7e61e9-1546-44dd-f868-25f8538de303"
      },
      "execution_count": null,
      "outputs": [
        {
          "output_type": "stream",
          "name": "stdout",
          "text": [
            "Red\n",
            "Blue\n"
          ]
        }
      ]
    },
    {
      "cell_type": "markdown",
      "source": [
        "# 13. Basic Decorator Creation"
      ],
      "metadata": {
        "id": "CJ0PxtRUx5b3"
      }
    },
    {
      "cell_type": "code",
      "source": [
        "def uppercase_decorator(func):\n",
        "    def wrapper():\n",
        "        return func().upper()\n",
        "    return wrapper\n",
        "\n",
        "@uppercase_decorator\n",
        "def greet():\n",
        "    return \"hello world\"\n",
        "\n",
        "# Test\n",
        "print(greet())\n"
      ],
      "metadata": {
        "colab": {
          "base_uri": "https://localhost:8080/"
        },
        "id": "Y04Ji_tAx2nZ",
        "outputId": "3d03aed4-fe47-40bc-ffd4-459f3c23d7ae"
      },
      "execution_count": null,
      "outputs": [
        {
          "output_type": "stream",
          "name": "stdout",
          "text": [
            "HELLO WORLD\n"
          ]
        }
      ]
    },
    {
      "cell_type": "markdown",
      "source": [
        "# 14. Timing Decorator"
      ],
      "metadata": {
        "id": "N3NNhnMTx-fb"
      }
    },
    {
      "cell_type": "code",
      "source": [
        "import time\n",
        "\n",
        "def time_it(func):\n",
        "    def wrapper(*args, **kwargs):\n",
        "        start = time.time()\n",
        "        result = func(*args, **kwargs)\n",
        "        end = time.time()\n",
        "        print(f\"Execution time: {end - start:.4f} seconds\")\n",
        "        return result\n",
        "    return wrapper\n",
        "\n",
        "@time_it\n",
        "def example_function():\n",
        "    time.sleep(1)\n",
        "\n",
        "# Test\n",
        "example_function()"
      ],
      "metadata": {
        "colab": {
          "base_uri": "https://localhost:8080/"
        },
        "id": "DYn_x6Bax8R7",
        "outputId": "3a9c856e-e676-4344-ecfd-2081ae8534e4"
      },
      "execution_count": null,
      "outputs": [
        {
          "output_type": "stream",
          "name": "stdout",
          "text": [
            "Execution time: 1.0005 seconds\n"
          ]
        }
      ]
    },
    {
      "cell_type": "markdown",
      "source": [
        "# 15. Parameterized Decorator"
      ],
      "metadata": {
        "id": "0-d0pbP8yE2z"
      }
    },
    {
      "cell_type": "code",
      "source": [
        "def repeat(n):\n",
        "    def decorator(func):\n",
        "        def wrapper(*args, **kwargs):\n",
        "            for _ in range(n):\n",
        "                func(*args, **kwargs)\n",
        "        return wrapper\n",
        "    return decorator\n",
        "\n",
        "@repeat(3)\n",
        "def say_hello():\n",
        "    print(\"Hello!\")\n",
        "\n",
        "# Test\n",
        "say_hello()"
      ],
      "metadata": {
        "colab": {
          "base_uri": "https://localhost:8080/"
        },
        "id": "i1SY4ETsyCYg",
        "outputId": "c8c9b26b-1805-4f19-a5a6-d8bb4e36f429"
      },
      "execution_count": null,
      "outputs": [
        {
          "output_type": "stream",
          "name": "stdout",
          "text": [
            "Hello!\n",
            "Hello!\n",
            "Hello!\n"
          ]
        }
      ]
    },
    {
      "cell_type": "markdown",
      "source": [
        "# 16. Caching with functools.lru_cache"
      ],
      "metadata": {
        "id": "JTL7n509yK9o"
      }
    },
    {
      "cell_type": "code",
      "source": [
        "from functools import lru_cache\n",
        "\n",
        "@lru_cache(maxsize=None)\n",
        "def fibonacci(n):\n",
        "    if n <= 1:\n",
        "        return n\n",
        "    return fibonacci(n - 1) + fibonacci(n - 2)\n",
        "\n",
        "# Test\n",
        "print(fibonacci(10))  # Should compute and cache values\n"
      ],
      "metadata": {
        "colab": {
          "base_uri": "https://localhost:8080/"
        },
        "id": "rtlJLO94yIAv",
        "outputId": "ca0b604d-7aca-43a8-f0c8-72478d8f5d6b"
      },
      "execution_count": null,
      "outputs": [
        {
          "output_type": "stream",
          "name": "stdout",
          "text": [
            "55\n"
          ]
        }
      ]
    },
    {
      "cell_type": "markdown",
      "source": [
        "# 17. Registration Decorator"
      ],
      "metadata": {
        "id": "SNDMjm9zyQl_"
      }
    },
    {
      "cell_type": "code",
      "source": [
        "registered_functions = []\n",
        "\n",
        "def register(func):\n",
        "    registered_functions.append(func.__name__)\n",
        "    return func\n",
        "\n",
        "@register\n",
        "def function_one():\n",
        "    pass\n",
        "\n",
        "@register\n",
        "def function_two():\n",
        "    pass\n",
        "\n",
        "# Test\n",
        "print(\"Registered functions:\", registered_functions)\n"
      ],
      "metadata": {
        "colab": {
          "base_uri": "https://localhost:8080/"
        },
        "id": "gu9sUOnzyNrG",
        "outputId": "7c2f555d-16f5-42c8-cfdb-db56b959a0d0"
      },
      "execution_count": null,
      "outputs": [
        {
          "output_type": "stream",
          "name": "stdout",
          "text": [
            "Registered functions: ['function_one', 'function_two']\n"
          ]
        }
      ]
    },
    {
      "cell_type": "markdown",
      "source": [
        "# 18. Closure"
      ],
      "metadata": {
        "id": "Qwj5U1ddyVcu"
      }
    },
    {
      "cell_type": "code",
      "source": [
        "def make_counter():\n",
        "    count = 0\n",
        "    def counter():\n",
        "        nonlocal count\n",
        "        count += 1\n",
        "        print(f\"Current count: {count}\")\n",
        "    return counter\n",
        "\n",
        "# Test\n",
        "counter = make_counter()\n",
        "counter()\n",
        "counter()"
      ],
      "metadata": {
        "colab": {
          "base_uri": "https://localhost:8080/"
        },
        "id": "WbaOCuOWyTbu",
        "outputId": "a6f5a41f-cac2-4305-b500-851a2927b35a"
      },
      "execution_count": null,
      "outputs": [
        {
          "output_type": "stream",
          "name": "stdout",
          "text": [
            "Current count: 1\n",
            "Current count: 2\n"
          ]
        }
      ]
    },
    {
      "cell_type": "markdown",
      "source": [
        "# 19. Stacked Decorators"
      ],
      "metadata": {
        "id": "JydOiAwiybsC"
      }
    },
    {
      "cell_type": "code",
      "source": [
        "def bold(func):\n",
        "    def wrapper():\n",
        "        return f\"<b> {func()} </b>\"\n",
        "    return wrapper\n",
        "\n",
        "def italic(func):\n",
        "    def wrapper():\n",
        "        return f\"<i> {func()} </i>\"\n",
        "    return wrapper\n",
        "\n",
        "@bold\n",
        "@italic\n",
        "def get_text():\n",
        "    return \"Hello, World!\"\n",
        "\n",
        "# Test\n",
        "print(get_text())\n"
      ],
      "metadata": {
        "colab": {
          "base_uri": "https://localhost:8080/"
        },
        "id": "bm-e5mQ0yZvl",
        "outputId": "2de03a19-e93c-4584-e68a-23dd5a7c84d4"
      },
      "execution_count": 1,
      "outputs": [
        {
          "output_type": "stream",
          "name": "stdout",
          "text": [
            "<b> <i> Hello, World! </i> </b>\n"
          ]
        }
      ]
    },
    {
      "cell_type": "markdown",
      "source": [
        "# 20. Multiple Dispatch Decorator"
      ],
      "metadata": {
        "id": "cykp_X1xykh3"
      }
    },
    {
      "cell_type": "code",
      "source": [
        "from functools import singledispatch\n",
        "\n",
        "@singledispatch\n",
        "def process(value):\n",
        "    raise TypeError(\"Unsupported type\")\n",
        "\n",
        "@process.register\n",
        "def _(value: int):\n",
        "    return f\"Processing an integer: {value}\"\n",
        "\n",
        "@process.register\n",
        "def _(value: str):\n",
        "    return f\"Processing a string: {value}\"\n",
        "\n",
        "# Test\n",
        "print(process(42))\n",
        "print(process(\"hello\"))\n"
      ],
      "metadata": {
        "colab": {
          "base_uri": "https://localhost:8080/"
        },
        "id": "n47sVEm5ye3v",
        "outputId": "604e559a-8491-402e-da00-35881c07957a"
      },
      "execution_count": null,
      "outputs": [
        {
          "output_type": "stream",
          "name": "stdout",
          "text": [
            "Processing an integer: 42\n",
            "Processing a string: hello\n"
          ]
        }
      ]
    },
    {
      "cell_type": "code",
      "source": [],
      "metadata": {
        "id": "pZ0QIvgnyrq5"
      },
      "execution_count": null,
      "outputs": []
    }
  ]
}